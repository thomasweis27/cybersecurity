{
  "nbformat": 4,
  "nbformat_minor": 0,
  "metadata": {
    "colab": {
      "provenance": [],
      "toc_visible": true,
      "authorship_tag": "ABX9TyMMBsFsNmINb3CQgAxnxUak",
      "include_colab_link": true
    },
    "kernelspec": {
      "name": "python3",
      "display_name": "Python 3"
    },
    "language_info": {
      "name": "python"
    }
  },
  "cells": [
    {
      "cell_type": "markdown",
      "metadata": {
        "id": "view-in-github",
        "colab_type": "text"
      },
      "source": [
        "<a href=\"https://colab.research.google.com/github/thomasweis27/cybersecurity/blob/main/cyber_skyline_enumeration_exploitation.ipynb\" target=\"_parent\"><img src=\"https://colab.research.google.com/assets/colab-badge.svg\" alt=\"Open In Colab\"/></a>"
      ]
    },
    {
      "cell_type": "markdown",
      "source": [
        "# Python 1 (Easy)"
      ],
      "metadata": {
        "id": "muUpgC6V-G4Q"
      }
    },
    {
      "cell_type": "markdown",
      "source": [
        "The following code was given to validate a password from Cyber Skyline. Then the code was changed in order to find something that fit the requirements.\n"
      ],
      "metadata": {
        "id": "8AeM6aEl8uaj"
      }
    },
    {
      "cell_type": "code",
      "source": [
        "#!/usr/bin/python\n",
        "\n",
        "import sys\n",
        "\n",
        "def main():\n",
        "  if len(sys.argv) != 2:\n",
        "    print(\"Invalid args\")\n",
        "    return\n",
        "  password = sys.argv[1]\n",
        "  builder = 0\n",
        "  for c in password:\n",
        "    builder += ord(c)\n",
        "  if builder == 1000 and len(password) == 10 and ord(password[1]) == 83:\n",
        "    print(\"correct\")\n",
        "  else:\n",
        "    print(\"incorrect\")\n",
        "\n",
        "if __name__ == \"__main__\":\n",
        "  main()\n"
      ],
      "metadata": {
        "id": "3_vuucJH9At5"
      },
      "execution_count": null,
      "outputs": []
    },
    {
      "cell_type": "markdown",
      "source": [
        "Requirements:\n",
        "\n",
        "\n",
        "*   10 characters\n",
        "*   ascii adds up to 1000\n",
        "*   spot 1 = 83\n",
        "\n",
        "?S????????\n",
        "\n"
      ],
      "metadata": {
        "id": "oEpDGnaR9GE5"
      }
    },
    {
      "cell_type": "code",
      "execution_count": null,
      "metadata": {
        "colab": {
          "base_uri": "https://localhost:8080/"
        },
        "id": "AKN5n8H06THB",
        "outputId": "143b2950-08ac-4ee6-9bd0-2e93a058c30f"
      },
      "outputs": [
        {
          "output_type": "stream",
          "name": "stdout",
          "text": [
            "correct\n",
            "1000 10 83\n"
          ]
        }
      ],
      "source": [
        "import sys\n",
        "\n",
        "def main(arg1, arg2):\n",
        "  password = arg2\n",
        "  builder = 0\n",
        "  for c in password:\n",
        "    builder += ord(c)\n",
        "  if builder == 1000 and len(password) == 10 and ord(password[1]) == 83:\n",
        "    print(\"correct\")\n",
        "    print(builder, len(password), ord(password[1]))\n",
        "  else:\n",
        "    print(\"incorrect\")\n",
        "    print(builder)\n",
        "    print(len(password))\n",
        "    print(password[1])\n",
        "\n",
        "if __name__ == \"__main__\":\n",
        "  main(\"username\", \"wSSSSYssss\")\n"
      ]
    },
    {
      "cell_type": "markdown",
      "source": [
        "This was a correct answer."
      ],
      "metadata": {
        "id": "LIkZKm2K9U2g"
      }
    },
    {
      "cell_type": "markdown",
      "source": [
        "# Python 2 (Easy)"
      ],
      "metadata": {
        "id": "GcQxEpwY-VMx"
      }
    },
    {
      "cell_type": "code",
      "source": [],
      "metadata": {
        "id": "SbG-JF1g-eZC"
      },
      "execution_count": null,
      "outputs": []
    }
  ]
}